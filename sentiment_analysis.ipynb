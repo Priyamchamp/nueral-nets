{
  "nbformat": 4,
  "nbformat_minor": 0,
  "metadata": {
    "colab": {
      "provenance": [],
      "gpuType": "T4",
      "mount_file_id": "1mnPl9erLNHjClwl9NMQfftlqbuOe0XYU",
      "authorship_tag": "ABX9TyN8IpBEE4PC2vTqvzUoqevk",
      "include_colab_link": true
    },
    "kernelspec": {
      "name": "python3",
      "display_name": "Python 3"
    },
    "language_info": {
      "name": "python"
    },
    "accelerator": "GPU"
  },
  "cells": [
    {
      "cell_type": "markdown",
      "metadata": {
        "id": "view-in-github",
        "colab_type": "text"
      },
      "source": [
        "<a href=\"https://colab.research.google.com/github/Priyamchamp/nueral-nets/blob/main/sentiment_analysis.ipynb\" target=\"_parent\"><img src=\"https://colab.research.google.com/assets/colab-badge.svg\" alt=\"Open In Colab\"/></a>"
      ]
    },
    {
      "cell_type": "markdown",
      "source": [
        "\n",
        "CREATING THE ENCODER AND THE TEST AND TRAIN VARIABLES\n",
        "---\n",
        "\n"
      ],
      "metadata": {
        "id": "dYZwr8OdIvyz"
      }
    },
    {
      "cell_type": "code",
      "execution_count": null,
      "metadata": {
        "colab": {
          "base_uri": "https://localhost:8080/"
        },
        "id": "HHsGWMcjb7Dx",
        "outputId": "4c4bdf22-b87f-4834-da6b-c511f11d420e"
      },
      "outputs": [
        {
          "output_type": "stream",
          "name": "stdout",
          "text": [
            "hello\n"
          ]
        }
      ],
      "source": [
        "import tensorflow as tf\n",
        "from tensorflow import keras\n",
        "import pandas as pd\n",
        "import numpy as np\n",
        "print(\"hello\")\n",
        "imdb_reviews=pd.read_csv(\"/content/imdb_reviews.csv\")\n",
        "test_reviews=pd.read_csv(\"/content/test_reviews.csv\")\n",
        "imdb_reviews.head()\n",
        "\n",
        "word_index=pd.read_csv(\"/content/word_indexes.csv\")\n",
        "word_index.head()\n",
        "word_index=dict(zip(word_index.Words,word_index.Indexes))\n",
        "word_index[\"<PAD>\"]=0\n",
        "word_index[\"<START\"]=1\n",
        "word_index[\"<UNK>\"]=2\n",
        "word_index[\"<UNUSED>\"]=3\n",
        "def review_encoder(text):\n",
        "  arr=[word_index[word] for word in text]\n",
        "  return arr\n",
        "train_data,train_labels=imdb_reviews['Reviews'],imdb_reviews['Sentiment']\n",
        "test_data,test_labels=test_reviews['Reviews'],test_reviews['Sentiment']\n",
        "\n",
        "train_data=train_data.apply(lambda review:review.split())\n",
        "test_data=test_data.apply(lambda review:review.split())\n",
        "\n",
        "train_data=train_data.apply(review_encoder)\n",
        "test_data=test_data.apply(review_encoder)\n",
        "\n"
      ]
    },
    {
      "cell_type": "markdown",
      "source": [
        "CREATING THE MODEL AND TRAINING IT"
      ],
      "metadata": {
        "id": "e4uaTG9DI6jt"
      }
    },
    {
      "cell_type": "code",
      "source": [
        "def encoder_sentiments(sentiment):\n",
        "  if sentiment=='positive':\n",
        "    return 1\n",
        "  else:\n",
        "    return 0\n",
        "train_labels=train_labels.apply(encoder_sentiments)\n",
        "test_labels=test_labels.apply(encoder_sentiments)\n",
        "train_data=keras.preprocessing.sequence.pad_sequences(train_data,value=word_index[\"<PAD>\"],padding=\"post\",maxlen=500)\n",
        "test_data=keras.preprocessing.sequence.pad_sequences(test_data,value=word_index[\"<PAD>\"],padding=\"post\",maxlen=500)\n",
        "#word embedding\n",
        "model=keras.Sequential([keras.layers.Embedding(1000,16,input_length=500),\n",
        "                        keras.layers.GlobalAveragePooling1D(),\n",
        "                        keras.layers.Dense(16,activation=\"relu\"),\n",
        "                        keras.layers.Dense(1,activation=\"sigmoid\")])\n",
        "model.compile(optimizer='adam',loss='binary_crossentropy',metrics=['accuracy'])\n",
        "\n",
        "history=model.fit(train_data,train_labels,epochs=30,batch_size=512,validation_data=(test_data,test_labels))\n",
        "\n"
      ],
      "metadata": {
        "id": "ZUNr0o5iFBZj"
      },
      "execution_count": null,
      "outputs": []
    },
    {
      "cell_type": "markdown",
      "source": [
        "FINAL EVALUATION OF THE ACCURACY OF THE MODEL"
      ],
      "metadata": {
        "id": "2T5sD3xQI9vF"
      }
    },
    {
      "cell_type": "code",
      "source": [
        "loss,accuracy=model.evaluate(train_data,test_labels)"
      ],
      "metadata": {
        "id": "MYQGNpG4lO1O",
        "colab": {
          "base_uri": "https://localhost:8080/"
        },
        "outputId": "a8515277-d075-4f04-df18-dc9c6b35a34e"
      },
      "execution_count": null,
      "outputs": [
        {
          "output_type": "stream",
          "name": "stdout",
          "text": [
            "782/782 [==============================] - 2s 2ms/step - loss: 3.0835e-04 - accuracy: 1.0000\n"
          ]
        }
      ]
    },
    {
      "cell_type": "markdown",
      "source": [
        "TESTING THE MODEL"
      ],
      "metadata": {
        "id": "3QRtRsgYJBO9"
      }
    },
    {
      "cell_type": "code",
      "source": [
        "index=np.random.randint(1,1000)\n",
        "user_review=test_reviews.loc[index]\n",
        "print(user_review)\n",
        "user_review=test_data[index]\n",
        "user_review=np.array([user_review])\n",
        "if(model.predict(user_review)>0.5).astype(\"int32\"):\n",
        "  print(\"positive sentiment\")\n",
        "else:\n",
        "  print(\"negative sentiment\")"
      ],
      "metadata": {
        "colab": {
          "base_uri": "https://localhost:8080/"
        },
        "id": "GtOoX-9aHesW",
        "outputId": "81f3e6ab-ba9b-49b0-9607-6deffdfbc9c6"
      },
      "execution_count": null,
      "outputs": [
        {
          "output_type": "stream",
          "name": "stdout",
          "text": [
            "Reviews      <START on halloween a town is <UNK> by a lunat...\n",
            "Sentiment                                             negative\n",
            "Name: 46, dtype: object\n",
            "1/1 [==============================] - 0s 17ms/step\n",
            "negative sentiment\n"
          ]
        }
      ]
    },
    {
      "cell_type": "markdown",
      "source": [
        "IMPORT THE DATASET FIRST FROM THE DRIVE\n"
      ],
      "metadata": {
        "id": "RMa2AltDIkIR"
      }
    },
    {
      "cell_type": "code",
      "source": [
        "from google.colab import drive\n",
        "drive.mount('/content/drive')"
      ],
      "metadata": {
        "id": "XFeP-fkphTtN",
        "colab": {
          "base_uri": "https://localhost:8080/"
        },
        "outputId": "f49b9ba5-9646-42a9-9ddf-a8ca9f62d9ad"
      },
      "execution_count": null,
      "outputs": [
        {
          "output_type": "stream",
          "name": "stdout",
          "text": [
            "Drive already mounted at /content/drive; to attempt to forcibly remount, call drive.mount(\"/content/drive\", force_remount=True).\n"
          ]
        }
      ]
    },
    {
      "cell_type": "markdown",
      "source": [
        "UNZIP THE DATASET AND LOAD INTO THIS ENVIRONMENT"
      ],
      "metadata": {
        "id": "FpAqlCUYIpEb"
      }
    },
    {
      "cell_type": "code",
      "source": [
        "!unzip /content/drive/MyDrive/datasets/drive-download-20231221T131424Z-001.zip\n"
      ],
      "metadata": {
        "colab": {
          "base_uri": "https://localhost:8080/"
        },
        "id": "D9kneepiiC00",
        "outputId": "86bb60d5-8177-4164-94ef-e0537e7250ed"
      },
      "execution_count": null,
      "outputs": [
        {
          "output_type": "stream",
          "name": "stdout",
          "text": [
            "Archive:  /content/drive/MyDrive/datasets/drive-download-20231221T131424Z-001.zip\n",
            "  inflating: dataset.txt             \n",
            "  inflating: IMDB_sentiment_analysis.ipynb  \n",
            "  inflating: word_indexes.csv        \n",
            "  inflating: test_reviews.csv        \n",
            "  inflating: imdb_reviews.csv        \n"
          ]
        }
      ]
    }
  ]
}